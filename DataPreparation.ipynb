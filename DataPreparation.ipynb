{
 "cells": [
  {
   "cell_type": "code",
   "execution_count": 1,
   "metadata": {},
   "outputs": [],
   "source": [
    "import os"
   ]
  },
  {
   "cell_type": "code",
   "execution_count": 2,
   "metadata": {},
   "outputs": [],
   "source": [
    "full_path_to_images = \\\n",
    "    'C:/Users/badri/Desktop/CustomObjectDetection/Dataset/train/Camera_Microphone_Glasses'\n",
    "\n",
    "os.chdir(full_path_to_images)\n",
    "\n",
    "p = []\n",
    "\n",
    "for current_dir, dirs, files in os.walk('.') :\n",
    "    \n",
    "    for f in files :\n",
    "        \n",
    "        if f.endswith('.jpg') :\n",
    "            \n",
    "            path_to_save_into_txt_files = full_path_to_images + '/' + f\n",
    "\n",
    "            p.append(path_to_save_into_txt_files + '\\n')\n",
    "\n",
    "\n",
    "p_test = p[ : int(len(p) * 0.1)]\n",
    "\n",
    "p = p[int(len(p) * 0.1) :]\n",
    "\n",
    "with open('train.txt', 'w') as train_txt :\n",
    "    \n",
    "    for e in p :\n",
    "        \n",
    "        train_txt.write(e)\n",
    "\n",
    "with open('test.txt', 'w') as test_txt :\n",
    "    \n",
    "    for e in p_test :\n",
    "        \n",
    "        test_txt.write(e)"
   ]
  },
  {
   "cell_type": "code",
   "execution_count": 3,
   "metadata": {},
   "outputs": [],
   "source": [
    "full_path_to_images = \\\n",
    "    'C:/Users/badri/Desktop/CustomObjectDetection/Dataset/train/Camera_Microphone_Glasses'\n",
    "\n",
    "c = 0\n",
    "\n",
    "\n",
    "with open(full_path_to_images + '/' + 'classes.names', 'w') as names, \\\n",
    "     open(full_path_to_images + '/' + 'classes.txt', 'r') as txt:\n",
    "\n",
    "    for line in txt :\n",
    "        \n",
    "        names.write(line) \n",
    "        \n",
    "        c += 1\n",
    "\n",
    "with open(full_path_to_images + '/' + 'camera_glasses_microphone', 'w') as data :\n",
    "    \n",
    "    data.write('classes = ' + str(c) + '\\n')\n",
    "\n",
    "    data.write('train = ' + full_path_to_images + '/' + 'train.txt' + '\\n')\n",
    "\n",
    "    data.write('valid = ' + full_path_to_images + '/' + 'test.txt' + '\\n')\n",
    "\n",
    "    data.write('names = ' + full_path_to_images + '/' + 'classes.names' + '\\n')\n",
    "\n",
    "    data.write('backup = ' + r'C:\\Users\\badri\\darknet\\backup')"
   ]
  }
 ],
 "metadata": {
  "kernelspec": {
   "display_name": "Python 3",
   "language": "python",
   "name": "python3"
  },
  "language_info": {
   "codemirror_mode": {
    "name": "ipython",
    "version": 3
   },
   "file_extension": ".py",
   "mimetype": "text/x-python",
   "name": "python",
   "nbconvert_exporter": "python",
   "pygments_lexer": "ipython3",
   "version": "3.7.6"
  }
 },
 "nbformat": 4,
 "nbformat_minor": 4
}
